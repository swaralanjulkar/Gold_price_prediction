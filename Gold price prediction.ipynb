{
 "cells": [
  {
   "cell_type": "markdown",
   "id": "f164459c",
   "metadata": {},
   "source": [
    "# Importing libraries\n"
   ]
  },
  {
   "cell_type": "code",
   "execution_count": 31,
   "id": "d54c7652",
   "metadata": {},
   "outputs": [],
   "source": [
    "import numpy as np\n",
    "import pandas as pd\n",
    "import matplotlib.pyplot as plt\n",
    "import seaborn as sns\n",
    "from sklearn.model_selection import train_test_split\n",
    "from sklearn.ensemble import RandomForestRegressor\n",
    "from sklearn import metrics\n",
    "from sklearn.metrics import accuracy_score\n"
   ]
  },
  {
   "cell_type": "markdown",
   "id": "8aee1ce2",
   "metadata": {},
   "source": [
    "# Data collection\n"
   ]
  },
  {
   "cell_type": "code",
   "execution_count": 6,
   "id": "e934fd49",
   "metadata": {},
   "outputs": [],
   "source": [
    "#loading csv data to a Pandas dataframe\n",
    "gold_data = pd.read_csv(\"C:\\\\Users\\\\SANJA\\\\OneDrive\\\\Desktop\\\\ML MODELS\\\\Gold price prediction model\\\\archive (1)\\\\gld_price_data.csv\")"
   ]
  },
  {
   "cell_type": "code",
   "execution_count": 7,
   "id": "22d5b389",
   "metadata": {},
   "outputs": [
    {
     "data": {
      "text/html": [
       "<div>\n",
       "<style scoped>\n",
       "    .dataframe tbody tr th:only-of-type {\n",
       "        vertical-align: middle;\n",
       "    }\n",
       "\n",
       "    .dataframe tbody tr th {\n",
       "        vertical-align: top;\n",
       "    }\n",
       "\n",
       "    .dataframe thead th {\n",
       "        text-align: right;\n",
       "    }\n",
       "</style>\n",
       "<table border=\"1\" class=\"dataframe\">\n",
       "  <thead>\n",
       "    <tr style=\"text-align: right;\">\n",
       "      <th></th>\n",
       "      <th>Date</th>\n",
       "      <th>SPX</th>\n",
       "      <th>GLD</th>\n",
       "      <th>USO</th>\n",
       "      <th>SLV</th>\n",
       "      <th>EUR/USD</th>\n",
       "    </tr>\n",
       "  </thead>\n",
       "  <tbody>\n",
       "    <tr>\n",
       "      <th>0</th>\n",
       "      <td>1/2/2008</td>\n",
       "      <td>1447.160034</td>\n",
       "      <td>84.860001</td>\n",
       "      <td>78.470001</td>\n",
       "      <td>15.180</td>\n",
       "      <td>1.471692</td>\n",
       "    </tr>\n",
       "    <tr>\n",
       "      <th>1</th>\n",
       "      <td>1/3/2008</td>\n",
       "      <td>1447.160034</td>\n",
       "      <td>85.570000</td>\n",
       "      <td>78.370003</td>\n",
       "      <td>15.285</td>\n",
       "      <td>1.474491</td>\n",
       "    </tr>\n",
       "    <tr>\n",
       "      <th>2</th>\n",
       "      <td>1/4/2008</td>\n",
       "      <td>1411.630005</td>\n",
       "      <td>85.129997</td>\n",
       "      <td>77.309998</td>\n",
       "      <td>15.167</td>\n",
       "      <td>1.475492</td>\n",
       "    </tr>\n",
       "    <tr>\n",
       "      <th>3</th>\n",
       "      <td>1/7/2008</td>\n",
       "      <td>1416.180054</td>\n",
       "      <td>84.769997</td>\n",
       "      <td>75.500000</td>\n",
       "      <td>15.053</td>\n",
       "      <td>1.468299</td>\n",
       "    </tr>\n",
       "    <tr>\n",
       "      <th>4</th>\n",
       "      <td>1/8/2008</td>\n",
       "      <td>1390.189941</td>\n",
       "      <td>86.779999</td>\n",
       "      <td>76.059998</td>\n",
       "      <td>15.590</td>\n",
       "      <td>1.557099</td>\n",
       "    </tr>\n",
       "  </tbody>\n",
       "</table>\n",
       "</div>"
      ],
      "text/plain": [
       "       Date          SPX        GLD        USO     SLV   EUR/USD\n",
       "0  1/2/2008  1447.160034  84.860001  78.470001  15.180  1.471692\n",
       "1  1/3/2008  1447.160034  85.570000  78.370003  15.285  1.474491\n",
       "2  1/4/2008  1411.630005  85.129997  77.309998  15.167  1.475492\n",
       "3  1/7/2008  1416.180054  84.769997  75.500000  15.053  1.468299\n",
       "4  1/8/2008  1390.189941  86.779999  76.059998  15.590  1.557099"
      ]
     },
     "execution_count": 7,
     "metadata": {},
     "output_type": "execute_result"
    }
   ],
   "source": [
    "#print head\n",
    "gold_data.head()"
   ]
  },
  {
   "cell_type": "code",
   "execution_count": 8,
   "id": "b1d6339f",
   "metadata": {},
   "outputs": [
    {
     "data": {
      "text/html": [
       "<div>\n",
       "<style scoped>\n",
       "    .dataframe tbody tr th:only-of-type {\n",
       "        vertical-align: middle;\n",
       "    }\n",
       "\n",
       "    .dataframe tbody tr th {\n",
       "        vertical-align: top;\n",
       "    }\n",
       "\n",
       "    .dataframe thead th {\n",
       "        text-align: right;\n",
       "    }\n",
       "</style>\n",
       "<table border=\"1\" class=\"dataframe\">\n",
       "  <thead>\n",
       "    <tr style=\"text-align: right;\">\n",
       "      <th></th>\n",
       "      <th>Date</th>\n",
       "      <th>SPX</th>\n",
       "      <th>GLD</th>\n",
       "      <th>USO</th>\n",
       "      <th>SLV</th>\n",
       "      <th>EUR/USD</th>\n",
       "    </tr>\n",
       "  </thead>\n",
       "  <tbody>\n",
       "    <tr>\n",
       "      <th>2285</th>\n",
       "      <td>5/8/2018</td>\n",
       "      <td>2671.919922</td>\n",
       "      <td>124.589996</td>\n",
       "      <td>14.0600</td>\n",
       "      <td>15.5100</td>\n",
       "      <td>1.186789</td>\n",
       "    </tr>\n",
       "    <tr>\n",
       "      <th>2286</th>\n",
       "      <td>5/9/2018</td>\n",
       "      <td>2697.790039</td>\n",
       "      <td>124.330002</td>\n",
       "      <td>14.3700</td>\n",
       "      <td>15.5300</td>\n",
       "      <td>1.184722</td>\n",
       "    </tr>\n",
       "    <tr>\n",
       "      <th>2287</th>\n",
       "      <td>5/10/2018</td>\n",
       "      <td>2723.070068</td>\n",
       "      <td>125.180000</td>\n",
       "      <td>14.4100</td>\n",
       "      <td>15.7400</td>\n",
       "      <td>1.191753</td>\n",
       "    </tr>\n",
       "    <tr>\n",
       "      <th>2288</th>\n",
       "      <td>5/14/2018</td>\n",
       "      <td>2730.129883</td>\n",
       "      <td>124.489998</td>\n",
       "      <td>14.3800</td>\n",
       "      <td>15.5600</td>\n",
       "      <td>1.193118</td>\n",
       "    </tr>\n",
       "    <tr>\n",
       "      <th>2289</th>\n",
       "      <td>5/16/2018</td>\n",
       "      <td>2725.780029</td>\n",
       "      <td>122.543800</td>\n",
       "      <td>14.4058</td>\n",
       "      <td>15.4542</td>\n",
       "      <td>1.182033</td>\n",
       "    </tr>\n",
       "  </tbody>\n",
       "</table>\n",
       "</div>"
      ],
      "text/plain": [
       "           Date          SPX         GLD      USO      SLV   EUR/USD\n",
       "2285   5/8/2018  2671.919922  124.589996  14.0600  15.5100  1.186789\n",
       "2286   5/9/2018  2697.790039  124.330002  14.3700  15.5300  1.184722\n",
       "2287  5/10/2018  2723.070068  125.180000  14.4100  15.7400  1.191753\n",
       "2288  5/14/2018  2730.129883  124.489998  14.3800  15.5600  1.193118\n",
       "2289  5/16/2018  2725.780029  122.543800  14.4058  15.4542  1.182033"
      ]
     },
     "execution_count": 8,
     "metadata": {},
     "output_type": "execute_result"
    }
   ],
   "source": [
    "gold_data.tail()"
   ]
  },
  {
   "cell_type": "code",
   "execution_count": 9,
   "id": "c08278b0",
   "metadata": {},
   "outputs": [
    {
     "data": {
      "text/plain": [
       "13740"
      ]
     },
     "execution_count": 9,
     "metadata": {},
     "output_type": "execute_result"
    }
   ],
   "source": [
    "gold_data.size"
   ]
  },
  {
   "cell_type": "code",
   "execution_count": 10,
   "id": "f62f7154",
   "metadata": {},
   "outputs": [
    {
     "data": {
      "text/plain": [
       "(2290, 6)"
      ]
     },
     "execution_count": 10,
     "metadata": {},
     "output_type": "execute_result"
    }
   ],
   "source": [
    "gold_data.shape"
   ]
  },
  {
   "cell_type": "code",
   "execution_count": 11,
   "id": "3f1f2f29",
   "metadata": {},
   "outputs": [
    {
     "data": {
      "text/html": [
       "<div>\n",
       "<style scoped>\n",
       "    .dataframe tbody tr th:only-of-type {\n",
       "        vertical-align: middle;\n",
       "    }\n",
       "\n",
       "    .dataframe tbody tr th {\n",
       "        vertical-align: top;\n",
       "    }\n",
       "\n",
       "    .dataframe thead th {\n",
       "        text-align: right;\n",
       "    }\n",
       "</style>\n",
       "<table border=\"1\" class=\"dataframe\">\n",
       "  <thead>\n",
       "    <tr style=\"text-align: right;\">\n",
       "      <th></th>\n",
       "      <th>SPX</th>\n",
       "      <th>GLD</th>\n",
       "      <th>USO</th>\n",
       "      <th>SLV</th>\n",
       "      <th>EUR/USD</th>\n",
       "    </tr>\n",
       "  </thead>\n",
       "  <tbody>\n",
       "    <tr>\n",
       "      <th>count</th>\n",
       "      <td>2290.000000</td>\n",
       "      <td>2290.000000</td>\n",
       "      <td>2290.000000</td>\n",
       "      <td>2290.000000</td>\n",
       "      <td>2290.000000</td>\n",
       "    </tr>\n",
       "    <tr>\n",
       "      <th>mean</th>\n",
       "      <td>1654.315776</td>\n",
       "      <td>122.732875</td>\n",
       "      <td>31.842221</td>\n",
       "      <td>20.084997</td>\n",
       "      <td>1.283653</td>\n",
       "    </tr>\n",
       "    <tr>\n",
       "      <th>std</th>\n",
       "      <td>519.111540</td>\n",
       "      <td>23.283346</td>\n",
       "      <td>19.523517</td>\n",
       "      <td>7.092566</td>\n",
       "      <td>0.131547</td>\n",
       "    </tr>\n",
       "    <tr>\n",
       "      <th>min</th>\n",
       "      <td>676.530029</td>\n",
       "      <td>70.000000</td>\n",
       "      <td>7.960000</td>\n",
       "      <td>8.850000</td>\n",
       "      <td>1.039047</td>\n",
       "    </tr>\n",
       "    <tr>\n",
       "      <th>25%</th>\n",
       "      <td>1239.874969</td>\n",
       "      <td>109.725000</td>\n",
       "      <td>14.380000</td>\n",
       "      <td>15.570000</td>\n",
       "      <td>1.171313</td>\n",
       "    </tr>\n",
       "    <tr>\n",
       "      <th>50%</th>\n",
       "      <td>1551.434998</td>\n",
       "      <td>120.580002</td>\n",
       "      <td>33.869999</td>\n",
       "      <td>17.268500</td>\n",
       "      <td>1.303297</td>\n",
       "    </tr>\n",
       "    <tr>\n",
       "      <th>75%</th>\n",
       "      <td>2073.010070</td>\n",
       "      <td>132.840004</td>\n",
       "      <td>37.827501</td>\n",
       "      <td>22.882500</td>\n",
       "      <td>1.369971</td>\n",
       "    </tr>\n",
       "    <tr>\n",
       "      <th>max</th>\n",
       "      <td>2872.870117</td>\n",
       "      <td>184.589996</td>\n",
       "      <td>117.480003</td>\n",
       "      <td>47.259998</td>\n",
       "      <td>1.598798</td>\n",
       "    </tr>\n",
       "  </tbody>\n",
       "</table>\n",
       "</div>"
      ],
      "text/plain": [
       "               SPX          GLD          USO          SLV      EUR/USD\n",
       "count  2290.000000  2290.000000  2290.000000  2290.000000  2290.000000\n",
       "mean   1654.315776   122.732875    31.842221    20.084997     1.283653\n",
       "std     519.111540    23.283346    19.523517     7.092566     0.131547\n",
       "min     676.530029    70.000000     7.960000     8.850000     1.039047\n",
       "25%    1239.874969   109.725000    14.380000    15.570000     1.171313\n",
       "50%    1551.434998   120.580002    33.869999    17.268500     1.303297\n",
       "75%    2073.010070   132.840004    37.827501    22.882500     1.369971\n",
       "max    2872.870117   184.589996   117.480003    47.259998     1.598798"
      ]
     },
     "execution_count": 11,
     "metadata": {},
     "output_type": "execute_result"
    }
   ],
   "source": [
    "#getting some basic information about the data\n",
    "gold_data.describe() \n",
    "#getting statistical measures of the data."
   ]
  },
  {
   "cell_type": "code",
   "execution_count": 12,
   "id": "00d3b805",
   "metadata": {},
   "outputs": [
    {
     "name": "stdout",
     "output_type": "stream",
     "text": [
      "<class 'pandas.core.frame.DataFrame'>\n",
      "RangeIndex: 2290 entries, 0 to 2289\n",
      "Data columns (total 6 columns):\n",
      " #   Column   Non-Null Count  Dtype  \n",
      "---  ------   --------------  -----  \n",
      " 0   Date     2290 non-null   object \n",
      " 1   SPX      2290 non-null   float64\n",
      " 2   GLD      2290 non-null   float64\n",
      " 3   USO      2290 non-null   float64\n",
      " 4   SLV      2290 non-null   float64\n",
      " 5   EUR/USD  2290 non-null   float64\n",
      "dtypes: float64(5), object(1)\n",
      "memory usage: 107.5+ KB\n"
     ]
    }
   ],
   "source": [
    "gold_data.info()"
   ]
  },
  {
   "cell_type": "code",
   "execution_count": 13,
   "id": "2e236863",
   "metadata": {},
   "outputs": [
    {
     "data": {
      "text/plain": [
       "Date       0\n",
       "SPX        0\n",
       "GLD        0\n",
       "USO        0\n",
       "SLV        0\n",
       "EUR/USD    0\n",
       "dtype: int64"
      ]
     },
     "execution_count": 13,
     "metadata": {},
     "output_type": "execute_result"
    }
   ],
   "source": [
    "#checking number of missing values\n",
    "gold_data.isnull().sum()"
   ]
  },
  {
   "cell_type": "code",
   "execution_count": 14,
   "id": "a0d2dc97",
   "metadata": {},
   "outputs": [],
   "source": [
    "# correlation = gold_data.corr()"
   ]
  },
  {
   "cell_type": "code",
   "execution_count": 17,
   "id": "cd186c83",
   "metadata": {},
   "outputs": [
    {
     "name": "stderr",
     "output_type": "stream",
     "text": [
      "C:\\Users\\SANJA\\anaconda3\\lib\\site-packages\\seaborn\\distributions.py:2619: FutureWarning: `distplot` is a deprecated function and will be removed in a future version. Please adapt your code to use either `displot` (a figure-level function with similar flexibility) or `histplot` (an axes-level function for histograms).\n",
      "  warnings.warn(msg, FutureWarning)\n"
     ]
    },
    {
     "data": {
      "text/plain": [
       "<AxesSubplot:xlabel='GLD', ylabel='Density'>"
      ]
     },
     "execution_count": 17,
     "metadata": {},
     "output_type": "execute_result"
    },
    {
     "data": {
      "image/png": "[encoded data removed]",
      "text/plain": [
       "<Figure size 432x288 with 1 Axes>"
      ]
     },
     "metadata": {
      "needs_background": "light"
     },
     "output_type": "display_data"
    }
   ],
   "source": [
    "# #constructing a heatmap to understand the correlation\n",
    "# plt.figure(figsize =(8,8))\n",
    "# sns.heatmap(correlation, char=True, fmt=)\n",
    "#checkinjg the distribution of teh GLD price\n",
    "sns.distplot(gold_data['GLD'],color = 'blue')"
   ]
  },
  {
   "cell_type": "code",
   "execution_count": 18,
   "id": "41ad8acd",
   "metadata": {},
   "outputs": [
    {
     "name": "stdout",
     "output_type": "stream",
     "text": [
      "              SPX        USO      SLV   EUR/USD\n",
      "0     1447.160034  78.470001  15.1800  1.471692\n",
      "1     1447.160034  78.370003  15.2850  1.474491\n",
      "2     1411.630005  77.309998  15.1670  1.475492\n",
      "3     1416.180054  75.500000  15.0530  1.468299\n",
      "4     1390.189941  76.059998  15.5900  1.557099\n",
      "...           ...        ...      ...       ...\n",
      "2285  2671.919922  14.060000  15.5100  1.186789\n",
      "2286  2697.790039  14.370000  15.5300  1.184722\n",
      "2287  2723.070068  14.410000  15.7400  1.191753\n",
      "2288  2730.129883  14.380000  15.5600  1.193118\n",
      "2289  2725.780029  14.405800  15.4542  1.182033\n",
      "\n",
      "[2290 rows x 4 columns]\n",
      "0        84.860001\n",
      "1        85.570000\n",
      "2        85.129997\n",
      "3        84.769997\n",
      "4        86.779999\n",
      "           ...    \n",
      "2285    124.589996\n",
      "2286    124.330002\n",
      "2287    125.180000\n",
      "2288    124.489998\n",
      "2289    122.543800\n",
      "Name: GLD, Length: 2290, dtype: float64\n"
     ]
    }
   ],
   "source": [
    "#splitting the features and target\n",
    "X = gold_data.drop(['Date','GLD'],axis=1)\n",
    "Y = gold_data['GLD']\n",
    "print(X)\n",
    "print(Y)"
   ]
  },
  {
   "cell_type": "code",
   "execution_count": 20,
   "id": "de610d39",
   "metadata": {},
   "outputs": [],
   "source": [
    "#Splitting into test and train data\n",
    "X_train,X_test,Y_train,Y_test = train_test_split(X,Y,test_size =0.2,random_state=2)"
   ]
  },
  {
   "cell_type": "markdown",
   "id": "f849c70d",
   "metadata": {},
   "source": [
    "# model training\n",
    "Random Forest Model"
   ]
  },
  {
   "cell_type": "code",
   "execution_count": 22,
   "id": "76231a00",
   "metadata": {},
   "outputs": [],
   "source": [
    " RF = RandomForestRegressor(n_estimators = 100)"
   ]
  },
  {
   "cell_type": "code",
   "execution_count": 23,
   "id": "6bec7a8a",
   "metadata": {},
   "outputs": [
    {
     "data": {
      "text/plain": [
       "RandomForestRegressor()"
      ]
     },
     "execution_count": 23,
     "metadata": {},
     "output_type": "execute_result"
    }
   ],
   "source": [
    "RF.fit(X_train,Y_train)"
   ]
  },
  {
   "cell_type": "code",
   "execution_count": 25,
   "id": "9d83af32",
   "metadata": {},
   "outputs": [
    {
     "name": "stdout",
     "output_type": "stream",
     "text": [
      "[168.59489979  82.13240009 115.75630025 127.70410056 120.90930127\n",
      " 154.69179749 150.2683981  126.04840013 117.47329885 125.90530069\n",
      " 116.50340111 171.52350143 141.64089834 167.55809801 115.25430041\n",
      " 117.7885004  138.54790328 170.2571011  159.29120222 159.75319968\n",
      " 155.14580007 125.26600037 175.6948992  157.2408043  125.26650028\n",
      "  93.82859995  77.76319998 120.67419992 119.10449917 167.38470056\n",
      "  88.19200079 125.36039999  91.10640035 117.69249996 121.24549918\n",
      " 136.78160131 115.64010123 114.52190102 149.67099925 107.12980059\n",
      " 104.55010234  87.17569773 126.43080037 117.75930026 152.83039857\n",
      " 119.56930021 108.32099965 107.92019803  93.08440065 127.16009753\n",
      "  74.90500049 113.66579931 121.21130002 111.32459964 118.85639871\n",
      " 120.76599978 160.6239994  169.13550093 146.96829741  85.70229832\n",
      "  94.23940022  86.90849937  90.49450024 118.88320077 126.40820112\n",
      " 127.47329994 170.3488     122.2432995  117.41459893  98.69150016\n",
      " 168.45970111 143.05019843 132.0486029  121.14400223 121.02289972\n",
      " 119.56520065 114.52460184 118.37420039 107.08550077 127.99680111\n",
      " 114.12009986 107.10359989 117.11980059 119.78029917  89.08950075\n",
      "  88.16629864 147.15400296 127.28769984 113.60940009 109.89249829\n",
      " 108.19499917  76.90339911 169.67370189 114.08339933 121.56849922\n",
      " 128.00250141 155.04139791  91.73089976 135.43470126 158.90050365\n",
      " 125.89520025 125.32570074 130.62430164 114.81400155 119.7797001\n",
      "  92.17179959 110.34939874 168.41649927 156.50189862 114.33059985\n",
      " 106.81160116  79.66419969 113.39460038 125.90460066 107.37139898\n",
      " 119.25560074 156.11580325 160.30089915 120.3330996  134.47560289\n",
      " 101.70719981 117.48089795 119.32250056 113.04850068 102.76369912\n",
      " 160.33979884  99.00030039 149.05169945 125.77550112 168.5430988\n",
      " 125.64439902 127.42419704 127.42580188 113.75869911 112.82150062\n",
      " 123.57259928 102.29539944  89.36390001 123.90509967 101.96599943\n",
      " 107.19199909 113.22410096 117.14560072  99.43639951 121.73310016\n",
      " 163.74069982  87.30349839 106.85210004 117.37050066 127.72660112\n",
      " 124.24910073  80.80539943 120.37670065 157.65169833  88.02689947\n",
      " 110.42599946 118.59139921 172.41909937 102.99539889 105.34710048\n",
      " 122.42550024 158.34139767  87.90929842  93.09690017 112.87300017\n",
      " 177.53949954 114.64609983 119.3496005   94.62810093 125.57090051\n",
      " 165.8844005  114.7516012  117.01300106  88.17349864 149.02820098\n",
      " 120.39059962  89.58640008 111.77610019 117.08520037 118.72180111\n",
      "  88.2997995   94.24069968 117.05250004 118.42720202 120.31180043\n",
      " 126.75139836 121.95189986 151.40349961 166.23490035 118.53709954\n",
      " 120.40250157 150.42330051 118.55859904 172.9509994  105.46079938\n",
      " 104.97160115 149.10990113 113.78650097 124.8085011  148.07399986\n",
      " 119.49720111 115.00450045 112.50070015 113.40010186 141.48670113\n",
      " 117.84289759 102.95950035 115.80510096 103.7222015   99.02220017\n",
      " 117.4520006   90.65390007  91.59730016 153.26449833 102.68360008\n",
      " 154.50760092 114.34770146 138.94880131  90.16629797 115.53089981\n",
      " 114.86259994 122.85980028 121.82790041 165.23140136  92.93219943\n",
      " 135.86090149 121.28389942 120.63870057 104.78630023 142.41410223\n",
      " 121.74649946 116.51140031 113.78400069 127.28419746 122.62809943\n",
      " 125.86459959 121.19140037  86.85669922 132.44060162 142.59430268\n",
      "  92.73039946 158.36139946 158.82790347 126.35009865 165.51609998\n",
      " 108.89959963 109.91370081 103.75919856  94.25620047 127.51780264\n",
      " 107.16200061 161.63379951 121.69610001 131.96220028 130.71340168\n",
      " 160.71849955  90.18439854 174.25060189 128.10229979 126.64249921\n",
      "  86.382299   124.53479954 150.07929726  89.6434002  106.97890001\n",
      " 109.05149985  84.80789931 135.79840019 154.79570173 139.37550312\n",
      "  74.06300036 152.32120087 126.00789968 126.70700025 127.43709949\n",
      " 108.65389936 156.25670021 114.44110154 116.90680127 125.22429922\n",
      " 154.11590144 121.33250009 156.30189956  92.8560004  125.4813015\n",
      " 125.81330085  87.86100069  92.06799942 126.25659922 128.1930037\n",
      " 113.3047     117.80769784 120.88749986 127.22699809 119.50560131\n",
      " 136.66550159  94.18529968 119.82940041 113.31350112  94.2597992\n",
      " 108.76659995  87.56239931 109.38699914  89.78299968  92.48690027\n",
      " 131.70980328 162.51590053  89.30370006 119.84490063 133.35680238\n",
      " 123.92940019 128.22710183 102.00029868  89.02509861 131.58260081\n",
      " 119.48930048 108.28699958 167.09600055 115.16960048  86.65409904\n",
      " 118.76830081  91.02949974 161.82680062 116.39830021 121.58930002\n",
      " 160.01259876 120.18539913 112.78309941 108.45929871 126.71229965\n",
      "  75.88390053 103.00269969 127.43600275 121.80509914  92.58960026\n",
      " 132.19550046 118.0342012  116.13220004 154.66120278 159.02430056\n",
      " 110.15589959 155.25779853 119.22680086 160.58380115 118.55700061\n",
      " 158.19499963 115.07449976 116.36030041 149.7039998  114.74600082\n",
      " 125.75429901 165.24059982 117.57100003 124.95459972 152.89590363\n",
      " 153.64350231 132.15920073 114.74420028 121.22040201 124.85110092\n",
      "  89.58690101 123.11089988 154.89320189 111.79840044 106.70110007\n",
      " 162.0469013  118.27909956 165.61539974 134.12960072 114.87319988\n",
      " 152.89659849 168.81370024 115.08670025 114.10170121 158.29479879\n",
      "  85.43059874 127.12800035 128.10680088 128.97780028 124.27020075\n",
      " 123.9079007   90.54810024 153.15839944  97.10409986 137.93479968\n",
      "  89.15059912 107.16789988 114.83380032 112.52760074 124.52349929\n",
      "  91.353499   125.41810093 162.46179888 119.93809884 165.25420117\n",
      " 126.81479823 112.19060037 127.33339927  94.77999876  90.89669995\n",
      " 103.03989912 120.74549952  83.08769965 126.41920056 160.22850461\n",
      " 117.25950112 118.38369976 119.72900012 122.74299937 120.1283014\n",
      " 121.38870039 118.25020015 107.06709984 148.4704     126.04159866\n",
      " 115.45070076  73.8771     127.80390119 153.19790049 122.79840015\n",
      " 125.53410053  88.85300007 103.51009878 124.86510028 120.26980016\n",
      "  73.40180074 151.67000088 120.9595004  104.55210018  86.28919769\n",
      " 114.90189902 172.21289972 119.82860044 160.50279804 113.15099956\n",
      " 121.38029979 118.49590109  95.96119989 118.95590013 125.94650016\n",
      " 118.36789954  95.72440017 153.89130178 122.04079987 147.69229993\n",
      " 159.25500205 114.02370017 122.44509962 152.18819894 127.25680023\n",
      " 166.11040011 135.50190073 119.99910004 167.49399929 108.40589879\n",
      " 121.77749833 139.21980133 106.4909988 ]\n"
     ]
    }
   ],
   "source": [
    "#MOdel evaluation\n",
    "#prediction on test data\n",
    "test_data_prediction = RF.predict(X_test)\n",
    "print(test_data_prediction)"
   ]
  },
  {
   "cell_type": "code",
   "execution_count": 26,
   "id": "6e04a772",
   "metadata": {},
   "outputs": [
    {
     "name": "stdout",
     "output_type": "stream",
     "text": [
      "R squared error :  0.9883997987040472\n"
     ]
    }
   ],
   "source": [
    "error_score = metrics.r2_score(Y_test,test_data_prediction)\n",
    "print(\"R squared error : \", error_score)"
   ]
  },
  {
   "cell_type": "code",
   "execution_count": 29,
   "id": "d772fd59",
   "metadata": {},
   "outputs": [
    {
     "data": {
      "image/png": "[encoded data removed]",
      "text/plain": [
       "<Figure size 432x288 with 1 Axes>"
      ]
     },
     "metadata": {
      "needs_background": "light"
     },
     "output_type": "display_data"
    }
   ],
   "source": [
    "#Compare the actual value and predicted values in a plot\n",
    "Y_test = list(Y_test)\n",
    "plt.plot(Y_test,color ='blue',label='Actual Value')\n",
    "plt.plot(test_data_prediction,color = 'green',label = 'Predicted Value')\n",
    "plt.title('Actual Price Vs Predicted Price')\n",
    "plt.xlabel('Number of values')\n",
    "plt.ylabel('GLD Price')\n",
    "plt.legend()\n",
    "plt.show()"
   ]
  },
  {
   "cell_type": "code",
   "execution_count": 34,
   "id": "8f63adcc",
   "metadata": {},
   "outputs": [],
   "source": [
    "# #checking the accuracy of the model\n",
    "# X_train_prediction = RF.predict(X_test)\n",
    "# training_data_accuracy = accuracy_score(X_train_prediction,Y_test)\n",
    "# print(\"Accuracy on training data : \",training_data_accuracy)"
   ]
  },
  {
   "cell_type": "code",
   "execution_count": 37,
   "id": "52cf358d",
   "metadata": {},
   "outputs": [
    {
     "name": "stdout",
     "output_type": "stream",
     "text": [
      "The predicted price for gold is :  [123.67840055]\n"
     ]
    }
   ],
   "source": [
    "#making a predictive system\n",
    "input_data =np.array([[2697.790039,14.3700,15.5300,1.184722]])\n",
    "prediction = RF.predict(input_data)\n",
    "print(\"The predicted price for gold is : \",prediction)"
   ]
  },
  {
   "cell_type": "code",
   "execution_count": 38,
   "id": "6106d399",
   "metadata": {},
   "outputs": [
    {
     "name": "stdout",
     "output_type": "stream",
     "text": [
      "The predicted price for gold is :  [77.43999909]\n"
     ]
    }
   ],
   "source": [
    "input_data=np.array([[2,3,4,5]])\n",
    "prediction = RF.predict(input_data)\n",
    "print(\"The predicted price for gold is : \",prediction)"
   ]
  },
  {
   "cell_type": "code",
   "execution_count": null,
   "id": "8ac8917a",
   "metadata": {},
   "outputs": [],
   "source": []
  }
 ],
 "metadata": {
  "kernelspec": {
   "display_name": "Python 3 (ipykernel)",
   "language": "python",
   "name": "python3"
  },
  "language_info": {
   "codemirror_mode": {
    "name": "ipython",
    "version": 3
   },
   "file_extension": ".py",
   "mimetype": "text/x-python",
   "name": "python",
   "nbconvert_exporter": "python",
   "pygments_lexer": "ipython3",
   "version": "3.9.7"
  }
 },
 "nbformat": 4,
 "nbformat_minor": 5
}
